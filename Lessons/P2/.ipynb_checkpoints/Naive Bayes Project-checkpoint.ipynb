{
 "cells": [
  {
   "cell_type": "code",
   "execution_count": 1,
   "metadata": {
    "collapsed": true
   },
   "outputs": [],
   "source": [
    "import pandas as pd\n",
    "import numpy as np"
   ]
  },
  {
   "cell_type": "code",
   "execution_count": 2,
   "metadata": {
    "collapsed": true
   },
   "outputs": [],
   "source": [
    "sample_memo = '''\n",
    "Milt, we're gonna need to go ahead and move you downstairs into storage B. We have some new people coming in, and we need all the space we can get. So if you could just go ahead and pack up your stuff and move it down there, that would be terrific, OK?\n",
    "Oh, and remember: next Friday... is Hawaiian shirt day. So, you know, if you want to, go ahead and wear a Hawaiian shirt and jeans.\n",
    "Oh, oh, and I almost forgot. Ahh, I'm also gonna need you to go ahead and come in on Sunday, too...\n",
    "Hello Peter, whats happening? Ummm, I'm gonna need you to go ahead and come in tomorrow. So if you could be here around 9 that would be great, mmmk... oh oh! and I almost forgot ahh, I'm also gonna need you to go ahead and come in on Sunday too, kay. We ahh lost some people this week and ah, we sorta need to play catch up.\n",
    "'''\n",
    "\n",
    "corrupted_memo = '''\n",
    "Yeah, I'm gonna --- you to go ahead --- --- complain about this. Oh, and if you could --- --- and sit at the kids' table, that'd be --- \n",
    "'''"
   ]
  },
  {
   "cell_type": "code",
   "execution_count": 22,
   "metadata": {
    "collapsed": false
   },
   "outputs": [],
   "source": [
    "def NextWordProbability(sampletext,word):\n",
    "    word_list = sampletext.split()\n",
    "    word_after_dict = {}\n",
    "    for index, article in enumerate(word_list):\n",
    "        if article == word:\n",
    "            next_word = word_list[index+1]\n",
    "            if next_word not in word_after_dict:\n",
    "                word_after_dict[next_word] = 1\n",
    "            else:\n",
    "                word_after_dict[next_word] += 1\n",
    "                \n",
    "    total_words_after = np.sum(word_after_dict.values())\n",
    "    for key, value in word_after_dict.items():\n",
    "        word_after_dict[key] = float(value) / total_words_after\n",
    "        \n",
    "    return word_after_dict"
   ]
  },
  {
   "cell_type": "code",
   "execution_count": 23,
   "metadata": {
    "collapsed": false
   },
   "outputs": [
    {
     "name": "stdout",
     "output_type": "stream",
     "text": [
      "{'to': 0.375, 'could': 0.25, 'downstairs': 0.125, 'know,': 0.125, 'want': 0.125}\n"
     ]
    }
   ],
   "source": [
    "print(NextWordProbability(sample_memo, 'you'))"
   ]
  },
  {
   "cell_type": "code",
   "execution_count": 24,
   "metadata": {
    "collapsed": false,
    "hideOutput": true,
    "hidePrompt": true
   },
   "outputs": [
    {
     "data": {
      "text/plain": [
       "['to', 'could', 'downstairs', 'know,', 'want']"
      ]
     },
     "execution_count": 24,
     "metadata": {},
     "output_type": "execute_result"
    }
   ],
   "source": [
    "word_after_dict = NextWordProbability(sample_memo, 'you')\n",
    "word_after_dict.keys()"
   ]
  },
  {
   "cell_type": "code",
   "execution_count": 25,
   "metadata": {
    "collapsed": true
   },
   "outputs": [],
   "source": [
    "def LaterWordsProbability(sample, probability_dict):\n",
    "    new_prob = {}\n",
    "    \n",
    "    for k1 in probability_dict.keys():\n",
    "        temp_prob = NextWordProbability(sample, k1)\n",
    "        for k2 in temp_prob.keys():\n",
    "            new_prob[k2] = new_prob.get(k2,0) + probability_dict[k1] * temp_prob[k2]\n",
    "            \n",
    "    return new_prob"
   ]
  },
  {
   "cell_type": "code",
   "execution_count": 26,
   "metadata": {
    "collapsed": true
   },
   "outputs": [],
   "source": [
    "def LaterWords(sample, word, distance):\n",
    "    \n",
    "    prob = NextWordProbability(sample, word)\n",
    "    i = distance\n",
    "    while i > 1:\n",
    "        prob = LaterWordsProbability(sample, prob)\n",
    "        i -= 1\n",
    "    \n",
    "    return max(prob, key=prob.get)\n",
    "    "
   ]
  },
  {
   "cell_type": "code",
   "execution_count": 30,
   "metadata": {
    "collapsed": false
   },
   "outputs": [
    {
     "data": {
      "text/plain": [
       "'up.'"
      ]
     },
     "execution_count": 30,
     "metadata": {},
     "output_type": "execute_result"
    }
   ],
   "source": [
    "LaterWords(sample_memo, 'play', 2)"
   ]
  },
  {
   "cell_type": "code",
   "execution_count": null,
   "metadata": {
    "collapsed": true
   },
   "outputs": [],
   "source": []
  }
 ],
 "metadata": {
  "kernelspec": {
   "display_name": "Python 2",
   "language": "python",
   "name": "python2"
  },
  "language_info": {
   "codemirror_mode": {
    "name": "ipython",
    "version": 2
   },
   "file_extension": ".py",
   "mimetype": "text/x-python",
   "name": "python",
   "nbconvert_exporter": "python",
   "pygments_lexer": "ipython2",
   "version": "2.7.13"
  }
 },
 "nbformat": 4,
 "nbformat_minor": 2
}
